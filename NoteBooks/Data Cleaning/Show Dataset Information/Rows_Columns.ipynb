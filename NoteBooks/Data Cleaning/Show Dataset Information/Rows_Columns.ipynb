{
 "cells": [
  {
   "cell_type": "code",
   "id": "initial_id",
   "metadata": {
    "collapsed": true,
    "ExecuteTime": {
     "end_time": "2025-03-26T17:46:32.317794Z",
     "start_time": "2025-03-26T17:46:29.875772Z"
    }
   },
   "source": [
    "import pandas as pd\n",
    "Path = r'C:\\Users\\zezom\\PycharmProjects\\CarX\\Datasets\\Raw\\Row.csv'\n",
    "Cars = pd.read_csv(Path)"
   ],
   "outputs": [],
   "execution_count": 1
  },
  {
   "metadata": {
    "ExecuteTime": {
     "end_time": "2025-03-26T17:46:54.131847Z",
     "start_time": "2025-03-26T17:46:54.108678Z"
    }
   },
   "cell_type": "code",
   "source": "Cars.shape",
   "id": "1d7e6930e5ad4bb4",
   "outputs": [
    {
     "data": {
      "text/plain": [
       "(33559, 13)"
      ]
     },
     "execution_count": 4,
     "metadata": {},
     "output_type": "execute_result"
    }
   ],
   "execution_count": 4
  }
 ],
 "metadata": {
  "kernelspec": {
   "display_name": "Python 3",
   "language": "python",
   "name": "python3"
  },
  "language_info": {
   "codemirror_mode": {
    "name": "ipython",
    "version": 2
   },
   "file_extension": ".py",
   "mimetype": "text/x-python",
   "name": "python",
   "nbconvert_exporter": "python",
   "pygments_lexer": "ipython2",
   "version": "2.7.6"
  }
 },
 "nbformat": 4,
 "nbformat_minor": 5
}
