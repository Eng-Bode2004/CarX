{
 "cells": [
  {
   "cell_type": "code",
   "id": "initial_id",
   "metadata": {
    "collapsed": true,
    "ExecuteTime": {
     "end_time": "2025-03-26T17:49:52.502200Z",
     "start_time": "2025-03-26T17:49:50.646775Z"
    }
   },
   "source": [
    "import pandas as pd\n",
    "Path = r'C:\\Users\\zezom\\PycharmProjects\\CarX\\Datasets\\Raw\\Row.csv'\n",
    "Cars = pd.read_csv(Path)"
   ],
   "outputs": [],
   "execution_count": 1
  },
  {
   "metadata": {
    "ExecuteTime": {
     "end_time": "2025-03-26T17:50:00.087361Z",
     "start_time": "2025-03-26T17:50:00.007537Z"
    }
   },
   "cell_type": "code",
   "source": "Cars.info()",
   "id": "1d7e6930e5ad4bb4",
   "outputs": [
    {
     "name": "stdout",
     "output_type": "stream",
     "text": [
      "<class 'pandas.core.frame.DataFrame'>\n",
      "RangeIndex: 33559 entries, 0 to 33558\n",
      "Data columns (total 13 columns):\n",
      " #   Column                  Non-Null Count  Dtype \n",
      "---  ------                  --------------  ----- \n",
      " 0   Name                    33559 non-null  object\n",
      " 1   Price                   32625 non-null  object\n",
      " 2   Color                   33559 non-null  object\n",
      " 3   Mileage                 31440 non-null  object\n",
      " 4   Make                    33559 non-null  object\n",
      " 5   Model                   33559 non-null  object\n",
      " 6   City                    33559 non-null  object\n",
      " 7   Date Displayed          33559 non-null  object\n",
      " 8   Automatic Transmission  33559 non-null  object\n",
      " 9   Air Conditioner         33559 non-null  object\n",
      " 10  Power Steering          33559 non-null  object\n",
      " 11  Remote Control          33559 non-null  object\n",
      " 12  Item URL                33559 non-null  object\n",
      "dtypes: object(13)\n",
      "memory usage: 3.3+ MB\n"
     ]
    }
   ],
   "execution_count": 2
  },
  {
   "metadata": {},
   "cell_type": "code",
   "outputs": [],
   "execution_count": null,
   "source": [
    "# Columns Has Missing Values\n",
    "#1- Price\n",
    "#2- Mileage\n",
    "#3-"
   ],
   "id": "d5b65e3a29cda087"
  }
 ],
 "metadata": {
  "kernelspec": {
   "display_name": "Python 3",
   "language": "python",
   "name": "python3"
  },
  "language_info": {
   "codemirror_mode": {
    "name": "ipython",
    "version": 2
   },
   "file_extension": ".py",
   "mimetype": "text/x-python",
   "name": "python",
   "nbconvert_exporter": "python",
   "pygments_lexer": "ipython2",
   "version": "2.7.6"
  }
 },
 "nbformat": 4,
 "nbformat_minor": 5
}
