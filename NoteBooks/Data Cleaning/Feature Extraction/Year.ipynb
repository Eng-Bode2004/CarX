{
 "cells": [
  {
   "cell_type": "code",
   "id": "initial_id",
   "metadata": {
    "collapsed": true,
    "ExecuteTime": {
     "end_time": "2025-03-26T21:03:36.521003Z",
     "start_time": "2025-03-26T21:03:35.770773Z"
    }
   },
   "source": [
    "import pandas as pd\n",
    "Path = r'C:\\Users\\zezom\\PycharmProjects\\CarX\\Datasets\\Processed\\cleaned_dataset.csv'\n",
    "Cars = pd.read_csv(Path)"
   ],
   "outputs": [],
   "execution_count": 1
  },
  {
   "metadata": {
    "ExecuteTime": {
     "end_time": "2025-03-26T21:03:37.431517Z",
     "start_time": "2025-03-26T21:03:37.112726Z"
    }
   },
   "cell_type": "code",
   "source": [
    "# Extract the year (last 4 digits in Car Model)\n",
    "Cars[\"Year\"] = Cars[\"Name\"].str.extract(r'(\\d{4})')\n",
    "\n",
    "# Convert 'Year' to integer type, handling missing values\n",
    "Cars[\"Year\"] = pd.to_numeric(Cars[\"Year\"], errors='coerce')  # Convert to number, set invalid values to NaN\n",
    "Cars.dropna(subset=[\"Year\"], inplace=True)  # Remove rows where Year is NaN\n",
    "Cars[\"Year\"] = Cars[\"Year\"].astype(int)  # Convert to integer\n",
    "\n",
    "# Show the first 5 years\n",
    "print(Cars['Year'].head())\n",
    "\n",
    "Cars.to_csv(r'C:\\Users\\zezom\\PycharmProjects\\CarX\\Datasets\\Processed\\cleaned_dataset.csv', index=False)"
   ],
   "id": "5d13da17c840547f",
   "outputs": [
    {
     "name": "stdout",
     "output_type": "stream",
     "text": [
      "0    2024\n",
      "1    2022\n",
      "2    2021\n",
      "3    2021\n",
      "4    2018\n",
      "Name: Year, dtype: int64\n"
     ]
    }
   ],
   "execution_count": 2
  }
 ],
 "metadata": {
  "kernelspec": {
   "display_name": "Python 3",
   "language": "python",
   "name": "python3"
  },
  "language_info": {
   "codemirror_mode": {
    "name": "ipython",
    "version": 2
   },
   "file_extension": ".py",
   "mimetype": "text/x-python",
   "name": "python",
   "nbconvert_exporter": "python",
   "pygments_lexer": "ipython2",
   "version": "2.7.6"
  }
 },
 "nbformat": 4,
 "nbformat_minor": 5
}
