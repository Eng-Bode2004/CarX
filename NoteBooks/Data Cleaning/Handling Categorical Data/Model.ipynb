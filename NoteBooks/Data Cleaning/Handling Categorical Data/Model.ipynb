{
 "cells": [
  {
   "metadata": {
    "ExecuteTime": {
     "end_time": "2025-03-26T21:03:18.849278Z",
     "start_time": "2025-03-26T21:03:17.960342Z"
    }
   },
   "cell_type": "code",
   "source": [
    "import pandas as pd\n",
    "Path = r'C:\\Users\\zezom\\PycharmProjects\\CarX\\Datasets\\Processed\\cleaned_dataset.csv'\n",
    "Cars = pd.read_csv(Path)"
   ],
   "id": "fbb4a6f6cd82ad1c",
   "outputs": [],
   "execution_count": 1
  },
  {
   "metadata": {
    "ExecuteTime": {
     "end_time": "2025-03-26T21:03:19.475279Z",
     "start_time": "2025-03-26T21:03:19.435137Z"
    }
   },
   "cell_type": "code",
   "source": "Cars['Model'].unique()",
   "id": "b53257f9d7f572a2",
   "outputs": [
    {
     "data": {
      "text/plain": [
       "array(['Sportage', 'Arrizo 5', 'Tipo', 'Tucson Turbo GDI', 'X1', 'Optra',\n",
       "       'Verna', 'Focus', 'Tiida', 'Lancer Puma', 'Grandland', 'Sunny',\n",
       "       'Uno', 'Spectra', 'Corolla', 'J3', 'Kodiaq', '5', 'Lanos',\n",
       "       'Octavia A4', 'Nubira 2', 'FRV', 'Sephia', 'Benni', 'Astra',\n",
       "       'Tiggo 3', 'E 250', 'Forte', 'Liberty', 'Grand terios', '1500',\n",
       "       'C4 Picasso', 'F3', 'Logan', 'Accord', 'Cerato', 'Renegade',\n",
       "       'E 200', 'ZS', 'C 200', 'Punto', '128', 'Ibiza', 'Lancer EX Shark',\n",
       "       'Cherokee', 'Tiggo 7', 'Lacetti', 'T600', '5008', 'Fluence',\n",
       "       'Avante', 'Ciaz', 'Kadjar', 'Golf', 'A620', '500C', 'S2', 'C 180',\n",
       "       'Elantra AD', 'A113', 'A1', 'JS4', 'FRV Cross', '301', 'X 30',\n",
       "       'Octavia A8', '6', '405', '200', 'Lancer', 'D max', 'Emgrand X7',\n",
       "       'Pride', 'Accent RB', 'Cruze', 'Fabia', 'Rio', 'Passat', '406',\n",
       "       'Maruti', 'Q35', 'J7', 'Soul', 'Elantra HD', 'N300', 'Elantra MD',\n",
       "       'A7', 'Getz', 'Duster', 'Excel', 'Lanos 2', 'EcoSport', 'C5',\n",
       "       'Matrix', 'Elantra', '520', 'Superb', 'Emgrand 7', 'Doblo',\n",
       "       'Tiggo', 'X70S', 'Tiguan', 'Octavia A7', 'Alto', 'Fantasia',\n",
       "       'Qashqai', 'Sandero Step Way', 'Accent', 'Grand Cherokee', '3',\n",
       "       'GLA', 'Tucson', 'GLK 250', 'Saga', 'CLA 200', 'Elantra CN7',\n",
       "       '250', 'Insignia', 'Rush', 'Carens', 'Aveo', 'Tiggo 8 Pro', 'I10',\n",
       "       'Leon', 'Charger', 'Urvan', 'Swift', 'IX 35', 'Yaris', 'Vectra',\n",
       "       'Civic', 'Granta', 'EC 7', 'K3', 'A516', 'S Presso', 'Eos',\n",
       "       'Megane', 'J2', 'C Elysee', '508', 'Atos', 'Belta', 'Cordoba',\n",
       "       'Cool Ray', 'C5 Aircross', 'XC60', 'AMG GT', 'A 180', '320',\n",
       "       'Shahin', 'Terios', 'Niva', '2105', 'EAGLE 580', '2107',\n",
       "       'Wrangler Unlimited', 'Sentra', 'Xceed', 'Grand Cerato', 'Emgrand',\n",
       "       'H6', 'Mira', 'Equinox', 'Baleno', '505', 'Camry', 'Tivoli XLV',\n",
       "       'Cayenne', 'X6 M', '440i', '350', 'Picanto', 'Leganza', 'Ceed',\n",
       "       'Cooper', 'Siena', 'Corsa', '3008', 'X7', 'Flying Spur', 'GT',\n",
       "       'CLA AMG', 'Swift Dzire', 'Captur', 'Golf 4', 'XC90', 'Tiggo 8',\n",
       "       'Beetle', 'Arrizo 5 pro', 'Grand i10', 'GLA 180', 'X40', 'S4',\n",
       "       'Galant', 'Juliet', '131', 'Hilux', 'C 240', 'JS3', 'X3', 'N200',\n",
       "       'Captiva', 'Envy', 'A3', 'Jetta', 'Ex 7', 'XV', 'GLC 200', 'HS',\n",
       "       '308', 'Toledo', 'Bayon', 'Nubira 1', 'Panda', 'RCZ', 'GLC 300',\n",
       "       'T5 evo', 'C 200 AMG', 'Rx5', 'Fortuner', 'X4', 'SIRION', '525',\n",
       "       'A4', 'Ghibli', 'Octavia', '420', 'Torres', 'Xpander', 'Crossland',\n",
       "       '500 X', 'Pandino', 'E Golf', 'Z4', '235', 'CLA 45 AMG',\n",
       "       'A 35 AMG', 'Pointer', 'Tempra', 'S30', 'Levante', '190',\n",
       "       'Xplosion', 'Jolion', 'X6', 'XTrail', 'FSV', '2008',\n",
       "       'Land Cruiser', 'Tucson GDI', 'GX3 Pro', '325', 'HRV', 'C 280',\n",
       "       'S 500', 'ID 4', 'Cerato Koup', '127', 'Van', 'Camaro', 'H1',\n",
       "       'Elantra Coupe', 'C4 Grand Picasso', 'X35', 'B 200', 'Pajero',\n",
       "       'Galena', 'Kuga', 'Vitara', '530', '307', 'Spark', 'Regata',\n",
       "       'ENS1', '418', 'Eclipse', 'Tarraco', '504', 'Eclipse Cross',\n",
       "       'Ateca', '116', 'Gentra', '318', 'Xsara', 'Juke', '316',\n",
       "       'Tiggo 8 pro e+', '2', 'Octavia A5', 'Accent HCI', 'C 300', 'L3',\n",
       "       'Grand vitara', 'Avanza', 'A15', 'Pickup', 'Polo', '330S', 'ID 6',\n",
       "       'Ram', '121', 'Arona', 'A 200', 'Fiesta', '323', 'Sorento',\n",
       "       'Gran max', 'Wira', 'Trax', 'E 230', 'Golf 2', 'I20', 'Golf 7',\n",
       "       'Fox', 'Parati', 'E 300', 'Tiggo 7 pro', 'Sonata', 'DS7', 'A5',\n",
       "       'Veloster', 'S5', 'Thunderbird', 'Range Rover Vogue', 'Innova',\n",
       "       'Karoq', 'Neon', 'CC', 'Familia', 'S3', 'Matiz', 'B 150', 'C3',\n",
       "       'Impreza', 'Dart', 'X70', '500', 'Minivan', 'XD', 'Sandero', 'V5',\n",
       "       'V3', 'M4', 'Persona', 'S 550', 'Countryman S', 'Maybach S600',\n",
       "       'M8', 'M5', 'Vantage', '760', 'Durango', 'Felicia', 'Gen 2',\n",
       "       'Creta', '335', 'C3 Aircross', '408', 'Microbus', '929', 'Malibu',\n",
       "       'Town & Country', 'M11', 'X70 Plus', 'Ranger', 'Suran', 'Q7',\n",
       "       'S60', 'V6', 'Clio', 'City', 'Saipa', 'Ck2', 'Fortwo', 'Golf 6',\n",
       "       'Bravo', 'E 200 AMG', 'E 180', 'CLA 180', '740', 'I3', 'E2000',\n",
       "       'RX5 Plus', 'Song Plus', 'Ax', 'Kamiq', 'Yeti', 'Preve',\n",
       "       'Cayenne S', 'Carnival', 'Corolla Cross', 'Celerio', 'X-Type',\n",
       "       'X5', 'Waja', '518', '750', 'T-Series', 'E 350', '2110', 'N5',\n",
       "       'Alsvin', 'Commander', 'C4', 'Ertiga', 'Macan', 'T5', 'N-Series',\n",
       "       'Espero', 'Prado', 'Pick up', '330', 'E 240', 'A 160', '9', 'X5 M',\n",
       "       '280', 'Scenic', 'Scala', '206', 'Mirage', 'ASX', 'S 450',\n",
       "       'Meriva', 'Ritmo', 'Solaris', '695', 'Hiace', 'G Class',\n",
       "       'Lancer Crystala', 'Punto evo', '104', 'Sonic', 'Turan', 'Favorit',\n",
       "       'Creta Grand', '25', 'Sebring', '1300', 'Escape', 'Fusion',\n",
       "       'Polonez', 'CRV', 'Touareg', '605', 'Dashing', 'Shuma', 'Coaster',\n",
       "       'Mokka', 'Q3', 'Scorpio', 'Dedra', 'Musso', 'GLC 200 AMG Imported',\n",
       "       'Racer', 'Range Rover Evoque', 'IX1', 'CS 15', 'Colt', 'Grecale',\n",
       "       '118', 'Roomster', 'Clubman', '208', '132', 'C 250', 'Seltos',\n",
       "       'GLS', 'Cross', 'Rapid', 'A13', 'Felicia combi', 'A30 Shine',\n",
       "       'Wrangler', '106', 'Giulietta', 'Charmant', 'H100', 'DS5', 'Dyna',\n",
       "       'Eado plus', 'V 60', 'A11', 'Grand Santa Fe', 'Petra', '626',\n",
       "       'X3 M', 'Corsair', 'Rainbow', 'Nubira', '523', 'Range Rover Sport',\n",
       "       'Pacifica', 'Fiorino', 'Linea', 'Taycan', 'X4M', 'GLK 350',\n",
       "       'B 180', 'T55', 'Rodeo', 'Starlet', 'Jimmy', 'Sx4', 'EX7', '205',\n",
       "       'Grand C-Max', 'I30', 'Dogan', 'PT Cruiser', 'Tiburon',\n",
       "       'Superb Combi', '3 Series', 'Kicks', '124', 'Mini Truck', 'Velar',\n",
       "       'Range Rover', 'C Class', '300', 'Optima', 'Legacy', 'Veloz',\n",
       "       'Caprice', '607', '180', 'Q5', 'Discovery sport', 'MDX',\n",
       "       'Galloper', 'Splendor', 'Escort', 'Patrol', 'Ls', 'Santamo',\n",
       "       'Amarok', 'Golf 3', 'Bora', 'Trial Blazer', 'Corona',\n",
       "       'Maybach S500', 'Cascada', '620', '1200', 'A25', '309', 'Tivoli',\n",
       "       '360', 'Avensis', 'M50', '230', 'EQA', 'E-Tron', 'Voyager',\n",
       "       'Royal', 'Adam', 'E 220', 'C31', 'Livina', 'Model X', 'Marsh',\n",
       "       'Komodo', '305', 'Mini', 'Eagle pro', 'Cadenza', '18', 'S-Type',\n",
       "       '228', 'Indigo', '730', '240', 'Jumpy', 'C8', 'Kancil', 'CS 35',\n",
       "       'Q22', 'Eado', 'ideal', 'DX8S Coupe', 'Emgrand 5', 'Dream', 'MCV',\n",
       "       'Carry', 'A 10', 'Imperial', 'New Star', 'XF', 'View', 'C-HR',\n",
       "       'F0', '340', '407', 'DX3', 'John Cooper', 'Flyer', 'A 45 AMG',\n",
       "       'ZX', 'QX80', 'Tiba', '218 i', 'B 160', 'IX3', 'EV6', 'Niro',\n",
       "       'Patrol safari', 'Golf 5', 'CLS Class', 'S7', 'T77 Pro', 'Gazelle',\n",
       "       'H2', 'LR2', 'Brava', '21', 'A6', 'E 53 AMG', 'Aeolus A30',\n",
       "       'Laguna', 'C2', 'Attrage', 'Emzoom', 'Navigator', 'Hover',\n",
       "       'Mondeo', 'Viva', 'B70', 'DX7', 'Glory', 'E-2008', 'S80', 'Z100',\n",
       "       'Emkoo', '1 Series', '001', 'Charade', 'Element', 'Territory',\n",
       "       'A380', 'CS 85', 'E', 'Wingle 5', '2017', 'Cooper Roadster', 'C30',\n",
       "       'V7', 'GLE', 'Cielo', 'T-Roc', 'Stratus', 'Haima 1', 'S 320',\n",
       "       'Pilot', '460', '308 sw', 'Cooper Paceman', 'CLA Class', '180B',\n",
       "       'Q8', 'Pegas', 'Integra', 'Materia', 'Creta SU2', '7', 'T5 Evo',\n",
       "       'Es', 'H530', 'Partner', 'EQE', 'Freelander', 'Lobo', 'F3R',\n",
       "       'Golf 8', 'Explorer', 'Echo', 'Gen 3', 'H3', '80', 'Exige', 'B30',\n",
       "       'Frontera', '207', 'Ck', '125', 'Formentor', 'Omega', 'Berlingo',\n",
       "       'Acadia', 'V101', 'J15', 'RX', 'Mini Cooper S', 'Mk', 'Glory 330',\n",
       "       'Tiggo 2', 'foison', 'Largus', 'K01', 'X90', 'Country man', 'L300',\n",
       "       'Cressida', 'M70', 'CL Class', 'Peri', 'Ds5', 'Avalanche',\n",
       "       'Rapid Spaceback', '545', 'Cx 3', 'Skylark', 'GLC', 'Vita',\n",
       "       'Grandis', 'K5', 'Tons2 / 2.5', 'Giulietta Quadrifoglio Verde',\n",
       "       'Datsun', 'X95', 'Discovery', 'Maple', 'Seal', 'XC 40', 'A213',\n",
       "       'Glory Van', 'Prius', 'Cooper Hatch', 'Sprint', 'Bronco', 'X2',\n",
       "       'Rumion', 'SEL 280', 'Caddy', 'Fx', 'E Class', 'X Pandino',\n",
       "       'Auris', 'Panamera S', 'DX5', 'DBX', 'Samara', '220', '86',\n",
       "       'Escalade', '2111', 'XA', '528', 'Altima', 'Journey', 'M3',\n",
       "       'Kalina', 'K900', 'S 300', 'Click', 'Odyssey', 'LX 570', 'Compass',\n",
       "       'Han', 'Fruits', 'Haima 3', 'Florida', 'GLE 350', 'Z', 'Solara',\n",
       "       'Gratour', 'T700', 'EQS', '146', 'Defender', 'CS 55', 'XE',\n",
       "       'Tiggo 4', 'MG 4', 'Terrain', 'Chery QQ', 'Okavango', 'Fronx',\n",
       "       'V60', 'Rapide S', 'GA3', 'Q2', 'T300', 'Town', 'S 350', 'X25',\n",
       "       'A8', 'Boxster S', 'Legend', 'Taunus', 'Naughty', 'Florid', '2106',\n",
       "       'X3 Pro', 'C4X', 'Rav 4', 'Yrv', 'Eagle', 'Ka', 'Arrizo 3', '560',\n",
       "       'Maxima', 'Y140', '1007', 'Tercel', 'TT', 'M12', 'Model Y',\n",
       "       '207 SW', 'Veyron', 'Altea', '500 E', 'Wagoneer', 'Palio', 'T500',\n",
       "       'GS', '940', 'Zaz', 'Bluebird', 'Pathfinder', 'APV', 'Teramont',\n",
       "       'Murano', 'Argenta', 'Qubo', 'CLK', 'Foreman', 'Qin Pro',\n",
       "       'Tons 5.5', 'Transporter', 'E 320', 'J5', 'Aurion', 'Model 3',\n",
       "       'Visto', 'M850', 'Family', 'MRV', 'Symbol', 'ZS EV', 'Marea',\n",
       "       'Applause', 'Duster Nova', 'Envoy', 'G3', 'Pulsar', '244', '19',\n",
       "       'Oka', 'Blazer', 'GLK 300', 'Dargo', 'Multivan', 'Besturn',\n",
       "       'Windstar', 'LEAF', 'Convertible', 'Sparky', 'Genesis', 'Viano',\n",
       "       'Englon', 'CS 35 Plus', 'Spark EV', '156', 'Transit', 'DS3',\n",
       "       'Grand C4 Spacetourer', 'Mini Van', '133', 'Terracan', 'RV 1',\n",
       "       'Veryca', 'C 230', 'Caravan', 'G 36 AMG', 'MZ 40', 'S40', '232',\n",
       "       'S90', 'A 140', 'Taurus', 'Jimny', '1100', 'Tiggo 7 pro max',\n",
       "       'C3 Picasso', 'Silverado', 'Lodgy', '11', 'Stelvio'], dtype=object)"
      ]
     },
     "execution_count": 2,
     "metadata": {},
     "output_type": "execute_result"
    }
   ],
   "execution_count": 2
  },
  {
   "metadata": {
    "ExecuteTime": {
     "end_time": "2025-03-26T21:03:22.191646Z",
     "start_time": "2025-03-26T21:03:20.840496Z"
    }
   },
   "cell_type": "code",
   "source": [
    "from sklearn.preprocessing import LabelEncoder\n",
    "le = LabelEncoder()\n",
    "Cars['Model']= le.fit_transform(Cars['Model'])\n",
    "Cars.to_csv(r'C:\\Users\\zezom\\PycharmProjects\\CarX\\Datasets\\Processed\\cleaned_dataset.csv', index=False)\n"
   ],
   "id": "232dab6babb78d31",
   "outputs": [],
   "execution_count": 3
  }
 ],
 "metadata": {
  "kernelspec": {
   "display_name": "Python 3",
   "language": "python",
   "name": "python3"
  },
  "language_info": {
   "codemirror_mode": {
    "name": "ipython",
    "version": 2
   },
   "file_extension": ".py",
   "mimetype": "text/x-python",
   "name": "python",
   "nbconvert_exporter": "python",
   "pygments_lexer": "ipython2",
   "version": "2.7.6"
  }
 },
 "nbformat": 4,
 "nbformat_minor": 5
}
