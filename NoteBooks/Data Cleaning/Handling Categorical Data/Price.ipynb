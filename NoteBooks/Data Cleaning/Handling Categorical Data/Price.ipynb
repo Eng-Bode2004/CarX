{
 "cells": [
  {
   "cell_type": "code",
   "id": "initial_id",
   "metadata": {
    "collapsed": true,
    "ExecuteTime": {
     "end_time": "2025-03-26T21:01:48.023860Z",
     "start_time": "2025-03-26T21:01:46.869514Z"
    }
   },
   "source": [
    "import pandas as pd\n",
    "Path = r'C:\\Users\\zezom\\PycharmProjects\\CarX\\Datasets\\Raw\\Row.csv'\n",
    "Cars = pd.read_csv(Path)"
   ],
   "outputs": [],
   "execution_count": 1
  },
  {
   "metadata": {
    "ExecuteTime": {
     "end_time": "2025-03-26T21:01:50.639459Z",
     "start_time": "2025-03-26T21:01:50.465293Z"
    }
   },
   "cell_type": "code",
   "source": [
    "def clean_price(price):\n",
    "    if isinstance(price, str):  # Ensure it's a string before processing\n",
    "        price = price.replace(\"EGP\", \"\").replace(\",\", \"\").strip()\n",
    "        return float(price) if price else None  # Convert to float or None if empty\n",
    "    return None  # Handle non-string cases\n",
    "\n",
    "# Apply cleaning function to the 'Price' column\n",
    "Cars[\"Price\"] = Cars[\"Price\"].apply(clean_price)\n",
    "\n",
    "# Display the first few rows\n",
    "print(Cars[[\"Price\"]].head())\n",
    "\n",
    "# Save the cleaned data if needed\n",
    "Cars.to_csv(\"cleaned_dataset.csv\", index=False)"
   ],
   "id": "232dab6babb78d31",
   "outputs": [
    {
     "name": "stdout",
     "output_type": "stream",
     "text": [
      "       Price\n",
      "0  2800000.0\n",
      "1        NaN\n",
      "2  1200000.0\n",
      "3  2050000.0\n",
      "4  2050000.0\n"
     ]
    }
   ],
   "execution_count": 2
  }
 ],
 "metadata": {
  "kernelspec": {
   "display_name": "Python 3",
   "language": "python",
   "name": "python3"
  },
  "language_info": {
   "codemirror_mode": {
    "name": "ipython",
    "version": 2
   },
   "file_extension": ".py",
   "mimetype": "text/x-python",
   "name": "python",
   "nbconvert_exporter": "python",
   "pygments_lexer": "ipython2",
   "version": "2.7.6"
  }
 },
 "nbformat": 4,
 "nbformat_minor": 5
}
