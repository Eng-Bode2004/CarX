{
 "cells": [
  {
   "cell_type": "code",
   "id": "initial_id",
   "metadata": {
    "collapsed": true,
    "ExecuteTime": {
     "end_time": "2025-03-26T21:03:01.533866Z",
     "start_time": "2025-03-26T21:03:00.724080Z"
    }
   },
   "source": [
    "import pandas as pd\n",
    "Path = r'C:\\Users\\zezom\\PycharmProjects\\CarX\\Datasets\\Processed\\cleaned_dataset.csv'\n",
    "Cars = pd.read_csv(Path)"
   ],
   "outputs": [],
   "execution_count": 1
  },
  {
   "metadata": {
    "ExecuteTime": {
     "end_time": "2025-03-26T21:03:03.013661Z",
     "start_time": "2025-03-26T21:03:02.895456Z"
    }
   },
   "cell_type": "code",
   "source": [
    "import pandas as pd\n",
    "Path = r'C:\\Users\\zezom\\PycharmProjects\\CarX\\Datasets\\Processed\\cleaned_dataset.csv'\n",
    "Cars = pd.read_csv(Path)"
   ],
   "id": "fbb4a6f6cd82ad1c",
   "outputs": [],
   "execution_count": 2
  },
  {
   "metadata": {
    "ExecuteTime": {
     "end_time": "2025-03-26T21:03:04.446245Z",
     "start_time": "2025-03-26T21:03:04.434275Z"
    }
   },
   "cell_type": "code",
   "source": "Cars['Make'].unique()",
   "id": "b53257f9d7f572a2",
   "outputs": [
    {
     "data": {
      "text/plain": [
       "array(['Kia', 'Chery', 'Fiat', 'Hyundai', 'BMW', 'Chevrolet', 'Ford',\n",
       "       'Nissan', 'Mitsubishi', 'Opel', 'Toyota', 'Jac', 'Skoda', 'MG',\n",
       "       'Daewoo', 'Brilliance', 'Changan', 'Mercedes', 'Jeep', 'Daihatsu',\n",
       "       'Lada', 'Citroën', 'Byd', 'Renault', 'Honda', 'Seat', 'Zotye',\n",
       "       'Suzuki', 'Volkswagen', 'Speranza', 'Senova', 'Peugeot', 'Isuzu',\n",
       "       'Geely', 'Saipa', 'Canghe', 'Audi', 'Jetour', 'Mazda', 'Proton',\n",
       "       'Dodge', 'Emgrand', 'Volvo', 'Lifan', 'DFSK', 'Haval',\n",
       "       'Ssang Yong', 'Porsche', 'Mini', 'Bentley', 'McLaren', 'Faw',\n",
       "       'Subaru', 'Forthing', 'Maserati', 'Baic', 'Ds', 'Haima',\n",
       "       'Land Rover', 'Chrysler', 'Cupra', 'Kenbo', 'Aston Martin',\n",
       "       'Smart', 'Jaguar', 'Kaiyi', 'Abarth', 'Mahindra', 'Lancia',\n",
       "       'Dongfeng', 'Alfa Romeo', 'Lincoln', 'Bestune', 'Gmc', 'Acura',\n",
       "       'Hawtai', 'Foton', 'Tesla', 'Tata', 'Karry', 'Soueast', 'Chana',\n",
       "       'Infiniti', 'Gaz', 'Hummer', 'GAC', 'Great Wall', 'Zeekr',\n",
       "       'Jonway', 'Datsun', 'Lexus', 'Hafei', 'Sokon', 'Lotus', 'Keyton',\n",
       "       'Buick', 'Cadillac', 'Domy', 'Bugatti', 'Landwind', 'Perodua'],\n",
       "      dtype=object)"
      ]
     },
     "execution_count": 3,
     "metadata": {},
     "output_type": "execute_result"
    }
   ],
   "execution_count": 3
  },
  {
   "metadata": {
    "ExecuteTime": {
     "end_time": "2025-03-26T21:03:07.114069Z",
     "start_time": "2025-03-26T21:03:05.841Z"
    }
   },
   "cell_type": "code",
   "source": [
    "from sklearn.preprocessing import LabelEncoder\n",
    "le = LabelEncoder()\n",
    "Cars['Make']= le.fit_transform(Cars['Make'])\n",
    "Cars.to_csv(r'C:\\Users\\zezom\\PycharmProjects\\CarX\\Datasets\\Processed\\cleaned_dataset.csv', index=False)\n"
   ],
   "id": "232dab6babb78d31",
   "outputs": [],
   "execution_count": 4
  }
 ],
 "metadata": {
  "kernelspec": {
   "display_name": "Python 3",
   "language": "python",
   "name": "python3"
  },
  "language_info": {
   "codemirror_mode": {
    "name": "ipython",
    "version": 2
   },
   "file_extension": ".py",
   "mimetype": "text/x-python",
   "name": "python",
   "nbconvert_exporter": "python",
   "pygments_lexer": "ipython2",
   "version": "2.7.6"
  }
 },
 "nbformat": 4,
 "nbformat_minor": 5
}
