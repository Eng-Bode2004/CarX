{
 "cells": [
  {
   "cell_type": "code",
   "id": "initial_id",
   "metadata": {
    "collapsed": true,
    "ExecuteTime": {
     "end_time": "2025-03-26T21:03:27.053206Z",
     "start_time": "2025-03-26T21:03:26.123854Z"
    }
   },
   "source": [
    "import pandas as pd\n",
    "Path = r'C:\\Users\\zezom\\PycharmProjects\\CarX\\Datasets\\Processed\\cleaned_dataset.csv'\n",
    "Cars = pd.read_csv(Path)"
   ],
   "outputs": [],
   "execution_count": 1
  },
  {
   "metadata": {
    "ExecuteTime": {
     "end_time": "2025-03-26T21:03:28.964609Z",
     "start_time": "2025-03-26T21:03:27.636321Z"
    }
   },
   "cell_type": "code",
   "source": [
    "from sklearn.preprocessing import OneHotEncoder\n",
    "\n",
    "ohe = OneHotEncoder(drop='first', sparse_output=False)\n",
    "# Select categorical columns\n",
    "categorical_cols = ['Automatic Transmission', 'Air Conditioner', 'Power Steering','Remote Control']\n",
    "\n",
    "# Fit and transform\n",
    "encoded_array = ohe.fit_transform(Cars[categorical_cols])\n",
    "\n",
    "# Convert to DataFrame\n",
    "encoded_df = pd.DataFrame(encoded_array, columns=ohe.get_feature_names_out(categorical_cols))\n",
    "\n",
    "# Drop original categorical columns and concatenate encoded features\n",
    "Cars = Cars.drop(columns=categorical_cols).reset_index(drop=True)\n",
    "Cars = pd.concat([Cars, encoded_df], axis=1)\n",
    "\n",
    "Cars.to_csv(r'C:\\Users\\zezom\\PycharmProjects\\CarX\\Datasets\\Processed\\cleaned_dataset.csv', index=False)"
   ],
   "id": "232dab6babb78d31",
   "outputs": [],
   "execution_count": 2
  }
 ],
 "metadata": {
  "kernelspec": {
   "display_name": "Python 3",
   "language": "python",
   "name": "python3"
  },
  "language_info": {
   "codemirror_mode": {
    "name": "ipython",
    "version": 2
   },
   "file_extension": ".py",
   "mimetype": "text/x-python",
   "name": "python",
   "nbconvert_exporter": "python",
   "pygments_lexer": "ipython2",
   "version": "2.7.6"
  }
 },
 "nbformat": 4,
 "nbformat_minor": 5
}
