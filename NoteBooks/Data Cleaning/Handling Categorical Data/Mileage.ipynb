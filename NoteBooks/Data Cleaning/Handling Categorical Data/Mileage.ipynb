{
 "cells": [
  {
   "cell_type": "code",
   "id": "initial_id",
   "metadata": {
    "collapsed": true,
    "ExecuteTime": {
     "end_time": "2025-03-26T21:03:11.683437Z",
     "start_time": "2025-03-26T21:03:10.943949Z"
    }
   },
   "source": [
    "import pandas as pd\n",
    "Path = r'C:\\Users\\zezom\\PycharmProjects\\CarX\\Datasets\\Processed\\cleaned_dataset.csv'\n",
    "Cars = pd.read_csv(Path)"
   ],
   "outputs": [],
   "execution_count": 1
  },
  {
   "metadata": {
    "ExecuteTime": {
     "end_time": "2025-03-26T21:03:13.098227Z",
     "start_time": "2025-03-26T21:03:12.895879Z"
    }
   },
   "cell_type": "code",
   "source": [
    "def clean_Mileage(Mileage):\n",
    "    if isinstance(Mileage, str):  # Ensure it's a string before processing\n",
    "        Mileage = Mileage.replace(\"Km\", \"\").replace(\",\",\"\").strip()\n",
    "        return float(Mileage) if Mileage else None  # Convert to float or None if empty\n",
    "    return None  # Handle non-string cases\n",
    "\n",
    "# Apply cleaning function to the 'Price' column\n",
    "Cars[\"Mileage\"] = Cars[\"Mileage\"].apply(clean_Mileage)\n",
    "\n",
    "# Display the first few rows\n",
    "print(Cars[[\"Mileage\"]].head())\n",
    "\n",
    "# Save the cleaned data if needed\n",
    "Cars.to_csv(r'C:\\Users\\zezom\\PycharmProjects\\CarX\\Datasets\\Processed\\cleaned_dataset.csv', index=False)"
   ],
   "id": "232dab6babb78d31",
   "outputs": [
    {
     "name": "stdout",
     "output_type": "stream",
     "text": [
      "    Mileage\n",
      "0     300.0\n",
      "1   86000.0\n",
      "2  131000.0\n",
      "3  125000.0\n",
      "4   84000.0\n"
     ]
    }
   ],
   "execution_count": 2
  }
 ],
 "metadata": {
  "kernelspec": {
   "display_name": "Python 3",
   "language": "python",
   "name": "python3"
  },
  "language_info": {
   "codemirror_mode": {
    "name": "ipython",
    "version": 2
   },
   "file_extension": ".py",
   "mimetype": "text/x-python",
   "name": "python",
   "nbconvert_exporter": "python",
   "pygments_lexer": "ipython2",
   "version": "2.7.6"
  }
 },
 "nbformat": 4,
 "nbformat_minor": 5
}
