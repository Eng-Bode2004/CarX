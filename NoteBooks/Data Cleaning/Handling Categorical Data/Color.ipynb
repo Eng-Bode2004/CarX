{
 "cells": [
  {
   "cell_type": "code",
   "id": "initial_id",
   "metadata": {
    "collapsed": true,
    "ExecuteTime": {
     "end_time": "2025-03-26T21:06:37.319332Z",
     "start_time": "2025-03-26T21:06:37.282478Z"
    }
   },
   "source": [
    "import pandas as pd\n",
    "Path = r'C:\\Users\\zezom\\PycharmProjects\\CarX\\Datasets\\Processed\\cleaned_dataset.csv'\n",
    "Cars = pd.read_csv(Path)"
   ],
   "outputs": [],
   "execution_count": 5
  },
  {
   "metadata": {
    "ExecuteTime": {
     "end_time": "2025-03-26T21:06:38.766760Z",
     "start_time": "2025-03-26T21:06:38.758134Z"
    }
   },
   "cell_type": "code",
   "source": "Cars['Color'].unique()",
   "id": "df069d2b782da889",
   "outputs": [
    {
     "data": {
      "text/plain": [
       "array(['Dark grey', 'Bronze', 'Petroleum', 'Black', 'Gray', 'Blue',\n",
       "       'Silver', 'Brown', 'Red', 'White', 'Dark red', 'Dark blue',\n",
       "       'Mocha', 'Gold', 'Green', 'Eggplant', 'Cyan', 'Champagne',\n",
       "       'Yellow', 'Dark green', 'Olive', 'Purple', 'Beige', 'Orange'],\n",
       "      dtype=object)"
      ]
     },
     "execution_count": 6,
     "metadata": {},
     "output_type": "execute_result"
    }
   ],
   "execution_count": 6
  },
  {
   "metadata": {
    "ExecuteTime": {
     "end_time": "2025-03-26T21:07:18.827334Z",
     "start_time": "2025-03-26T21:07:18.648145Z"
    }
   },
   "cell_type": "code",
   "source": [
    "# Apply Label Encoding\n",
    "from sklearn.preprocessing import LabelEncoder\n",
    "le = LabelEncoder()\n",
    "Cars['Color'] = le.fit_transform(Cars['Color'])\n",
    "Cars.to_csv(r'C:\\Users\\zezom\\PycharmProjects\\CarX\\Datasets\\Processed\\cleaned_dataset.csv', index=False)\n",
    "Cars.head()"
   ],
   "id": "8b65704b4b308a07",
   "outputs": [
    {
     "data": {
      "text/plain": [
       "   Make  Model  Year   Mileage  Color  Automatic Transmission_Yes  \\\n",
       "0    59    739  2024     300.0      9                         1.0   \n",
       "1    17    158  2022   86000.0      3                         1.0   \n",
       "2    32    790  2021  131000.0     18                         1.0   \n",
       "3    47    806  2021  125000.0      1                         1.0   \n",
       "4     5    843  2018   84000.0     13                         1.0   \n",
       "\n",
       "   Air Conditioner_Yes  Power Steering_Yes  Remote Control_Yes         Price  \n",
       "0                  1.0                 1.0                 1.0  2.800000e+06  \n",
       "1                  1.0                 1.0                 1.0  9.545123e+05  \n",
       "2                  1.0                 1.0                 1.0  1.200000e+06  \n",
       "3                  1.0                 1.0                 1.0  2.050000e+06  \n",
       "4                  1.0                 1.0                 1.0  2.050000e+06  "
      ],
      "text/html": [
       "<div>\n",
       "<style scoped>\n",
       "    .dataframe tbody tr th:only-of-type {\n",
       "        vertical-align: middle;\n",
       "    }\n",
       "\n",
       "    .dataframe tbody tr th {\n",
       "        vertical-align: top;\n",
       "    }\n",
       "\n",
       "    .dataframe thead th {\n",
       "        text-align: right;\n",
       "    }\n",
       "</style>\n",
       "<table border=\"1\" class=\"dataframe\">\n",
       "  <thead>\n",
       "    <tr style=\"text-align: right;\">\n",
       "      <th></th>\n",
       "      <th>Make</th>\n",
       "      <th>Model</th>\n",
       "      <th>Year</th>\n",
       "      <th>Mileage</th>\n",
       "      <th>Color</th>\n",
       "      <th>Automatic Transmission_Yes</th>\n",
       "      <th>Air Conditioner_Yes</th>\n",
       "      <th>Power Steering_Yes</th>\n",
       "      <th>Remote Control_Yes</th>\n",
       "      <th>Price</th>\n",
       "    </tr>\n",
       "  </thead>\n",
       "  <tbody>\n",
       "    <tr>\n",
       "      <th>0</th>\n",
       "      <td>59</td>\n",
       "      <td>739</td>\n",
       "      <td>2024</td>\n",
       "      <td>300.0</td>\n",
       "      <td>9</td>\n",
       "      <td>1.0</td>\n",
       "      <td>1.0</td>\n",
       "      <td>1.0</td>\n",
       "      <td>1.0</td>\n",
       "      <td>2.800000e+06</td>\n",
       "    </tr>\n",
       "    <tr>\n",
       "      <th>1</th>\n",
       "      <td>17</td>\n",
       "      <td>158</td>\n",
       "      <td>2022</td>\n",
       "      <td>86000.0</td>\n",
       "      <td>3</td>\n",
       "      <td>1.0</td>\n",
       "      <td>1.0</td>\n",
       "      <td>1.0</td>\n",
       "      <td>1.0</td>\n",
       "      <td>9.545123e+05</td>\n",
       "    </tr>\n",
       "    <tr>\n",
       "      <th>2</th>\n",
       "      <td>32</td>\n",
       "      <td>790</td>\n",
       "      <td>2021</td>\n",
       "      <td>131000.0</td>\n",
       "      <td>18</td>\n",
       "      <td>1.0</td>\n",
       "      <td>1.0</td>\n",
       "      <td>1.0</td>\n",
       "      <td>1.0</td>\n",
       "      <td>1.200000e+06</td>\n",
       "    </tr>\n",
       "    <tr>\n",
       "      <th>3</th>\n",
       "      <td>47</td>\n",
       "      <td>806</td>\n",
       "      <td>2021</td>\n",
       "      <td>125000.0</td>\n",
       "      <td>1</td>\n",
       "      <td>1.0</td>\n",
       "      <td>1.0</td>\n",
       "      <td>1.0</td>\n",
       "      <td>1.0</td>\n",
       "      <td>2.050000e+06</td>\n",
       "    </tr>\n",
       "    <tr>\n",
       "      <th>4</th>\n",
       "      <td>5</td>\n",
       "      <td>843</td>\n",
       "      <td>2018</td>\n",
       "      <td>84000.0</td>\n",
       "      <td>13</td>\n",
       "      <td>1.0</td>\n",
       "      <td>1.0</td>\n",
       "      <td>1.0</td>\n",
       "      <td>1.0</td>\n",
       "      <td>2.050000e+06</td>\n",
       "    </tr>\n",
       "  </tbody>\n",
       "</table>\n",
       "</div>"
      ]
     },
     "execution_count": 9,
     "metadata": {},
     "output_type": "execute_result"
    }
   ],
   "execution_count": 9
  },
  {
   "metadata": {
    "ExecuteTime": {
     "end_time": "2025-03-26T21:02:56.136462Z",
     "start_time": "2025-03-26T21:02:56.128021Z"
    }
   },
   "cell_type": "code",
   "source": "Cars['Color'].unique()",
   "id": "e1f10945034b3384",
   "outputs": [
    {
     "data": {
      "text/plain": [
       "array([ 9,  3, 18,  1, 13,  2, 21,  4, 20, 22, 10,  7, 15, 12, 14, 11,  6,\n",
       "        5, 23,  8, 16, 19,  0, 17])"
      ]
     },
     "execution_count": 4,
     "metadata": {},
     "output_type": "execute_result"
    }
   ],
   "execution_count": 4
  }
 ],
 "metadata": {
  "kernelspec": {
   "display_name": "Python 3",
   "language": "python",
   "name": "python3"
  },
  "language_info": {
   "codemirror_mode": {
    "name": "ipython",
    "version": 2
   },
   "file_extension": ".py",
   "mimetype": "text/x-python",
   "name": "python",
   "nbconvert_exporter": "python",
   "pygments_lexer": "ipython2",
   "version": "2.7.6"
  }
 },
 "nbformat": 4,
 "nbformat_minor": 5
}
