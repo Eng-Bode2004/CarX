{
 "cells": [
  {
   "cell_type": "code",
   "id": "initial_id",
   "metadata": {
    "collapsed": true,
    "ExecuteTime": {
     "end_time": "2025-03-17T00:50:18.627977Z",
     "start_time": "2025-03-17T00:50:18.606534Z"
    }
   },
   "source": [
    "import pandas as pd\n",
    "Path = r'C:\\Users\\zezom\\PycharmProjects\\CarX\\Datasets\\Raw\\Cars.csv'\n",
    "Cars = pd.read_csv(Path)"
   ],
   "outputs": [],
   "execution_count": 3
  },
  {
   "metadata": {
    "ExecuteTime": {
     "end_time": "2025-03-17T00:50:22.234052Z",
     "start_time": "2025-03-17T00:50:22.179929Z"
    }
   },
   "cell_type": "code",
   "source": [
    "Cars.drop(['seller_type'],axis=1,inplace=True)\n",
    "Cars.to_csv(Path)"
   ],
   "id": "80d197cab6440c8",
   "outputs": [],
   "execution_count": 4
  },
  {
   "metadata": {
    "ExecuteTime": {
     "end_time": "2025-03-17T00:51:47.043698Z",
     "start_time": "2025-03-17T00:51:46.998353Z"
    }
   },
   "cell_type": "code",
   "source": [
    "Cars.drop(['owner'],axis=1,inplace=True)\n",
    "Cars.to_csv(Path)"
   ],
   "id": "bf833c5cdd9c1dd4",
   "outputs": [],
   "execution_count": 5
  }
 ],
 "metadata": {
  "kernelspec": {
   "display_name": "Python 3",
   "language": "python",
   "name": "python3"
  },
  "language_info": {
   "codemirror_mode": {
    "name": "ipython",
    "version": 2
   },
   "file_extension": ".py",
   "mimetype": "text/x-python",
   "name": "python",
   "nbconvert_exporter": "python",
   "pygments_lexer": "ipython2",
   "version": "2.7.6"
  }
 },
 "nbformat": 4,
 "nbformat_minor": 5
}
