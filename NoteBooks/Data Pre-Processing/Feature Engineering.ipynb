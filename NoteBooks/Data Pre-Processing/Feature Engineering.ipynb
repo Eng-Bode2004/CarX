{
 "cells": [
  {
   "cell_type": "code",
   "id": "initial_id",
   "metadata": {
    "collapsed": true,
    "ExecuteTime": {
     "end_time": "2025-03-17T01:52:05.553980Z",
     "start_time": "2025-03-17T01:52:05.256791Z"
    }
   },
   "source": [
    "import pandas as pd\n",
    "from sklearn.model_selection import train_test_split\n",
    "\n",
    "# Load dataset\n",
    "Path = r'C:\\Users\\zezom\\PycharmProjects\\CarX\\Datasets\\Raw\\Cars.csv'\n",
    "Cars = pd.read_csv(Path)\n",
    "\n",
    "# Define target variable (y) and features (X)\n",
    "X = Cars.drop(columns=['selling_price'])  # Features (drop the target column)\n",
    "y = Cars['selling_price']  # Target column\n",
    "\n",
    "# Split dataset: 80% training, 20% testing\n",
    "X_train, X_test, y_train, y_test = train_test_split(X, y, test_size=0.2, random_state=42)\n",
    "\n",
    "# Save train and test datasets\n",
    "X_train.to_csv(r'C:\\Users\\zezom\\PycharmProjects\\CarX\\Datasets\\Processed\\X_train.csv', index=False)\n",
    "X_test.to_csv(r'C:\\Users\\zezom\\PycharmProjects\\CarX\\Datasets\\Processed\\X_test.csv', index=False)\n",
    "y_train.to_csv(r'C:\\Users\\zezom\\PycharmProjects\\CarX\\Datasets\\Processed\\y_train.csv', index=False)\n",
    "y_test.to_csv(r'C:\\Users\\zezom\\PycharmProjects\\CarX\\Datasets\\Processed\\y_test.csv', index=False)\n",
    "\n",
    "print(\"✅ Dataset successfully split and saved!\")\n"
   ],
   "outputs": [
    {
     "name": "stdout",
     "output_type": "stream",
     "text": [
      "✅ Dataset successfully split and saved!\n"
     ]
    }
   ],
   "execution_count": 1
  }
 ],
 "metadata": {
  "kernelspec": {
   "display_name": "Python 3",
   "language": "python",
   "name": "python3"
  },
  "language_info": {
   "codemirror_mode": {
    "name": "ipython",
    "version": 2
   },
   "file_extension": ".py",
   "mimetype": "text/x-python",
   "name": "python",
   "nbconvert_exporter": "python",
   "pygments_lexer": "ipython2",
   "version": "2.7.6"
  }
 },
 "nbformat": 4,
 "nbformat_minor": 5
}
