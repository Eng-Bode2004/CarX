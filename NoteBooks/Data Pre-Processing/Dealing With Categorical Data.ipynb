{
 "cells": [
  {
   "cell_type": "code",
   "id": "initial_id",
   "metadata": {
    "collapsed": true,
    "ExecuteTime": {
     "end_time": "2025-03-17T01:13:31.324816Z",
     "start_time": "2025-03-17T01:13:31.291864Z"
    }
   },
   "source": [
    "import pandas as pd\n",
    "Path = r'C:\\Users\\zezom\\PycharmProjects\\CarX\\Datasets\\Raw\\Cars.csv'\n",
    "Cars = pd.read_csv(Path)"
   ],
   "outputs": [],
   "execution_count": 12
  },
  {
   "metadata": {},
   "cell_type": "markdown",
   "source": "# Make Brand Column",
   "id": "37fb496742d7f78b"
  },
  {
   "metadata": {
    "ExecuteTime": {
     "end_time": "2025-03-17T01:07:25.449726Z",
     "start_time": "2025-03-17T01:07:25.394405Z"
    }
   },
   "cell_type": "code",
   "source": [
    "Cars[\"brand\"] = Cars[\"name\"].apply(lambda x: x.split()[0])  # Extract car brand\n",
    "Cars.to_csv(Path)"
   ],
   "id": "1fdfa9ef058f7ff9",
   "outputs": [],
   "execution_count": 7
  },
  {
   "metadata": {
    "ExecuteTime": {
     "end_time": "2025-03-17T01:00:21.459644Z",
     "start_time": "2025-03-17T01:00:21.444488Z"
    }
   },
   "cell_type": "code",
   "source": [
    "Cars[\"model\"] = Cars[\"name\"].apply(lambda x: \" \".join(x.split()[1:3]))  # Extract model name\n",
    "Cars[\"model\"].head()"
   ],
   "id": "f3843abaabdc9cf0",
   "outputs": [
    {
     "data": {
      "text/plain": [
       "0       Swift Dzire\n",
       "1         Rapid 1.5\n",
       "2    City 2017-2020\n",
       "3        i20 Sportz\n",
       "4         Swift VXI\n",
       "Name: model, dtype: object"
      ]
     },
     "execution_count": 4,
     "metadata": {},
     "output_type": "execute_result"
    }
   ],
   "execution_count": 4
  },
  {
   "metadata": {
    "ExecuteTime": {
     "end_time": "2025-03-17T01:01:09.667929Z",
     "start_time": "2025-03-17T01:01:09.432605Z"
    }
   },
   "cell_type": "code",
   "source": [
    "# Apply Label Encoding to model name\n",
    "from sklearn.preprocessing import LabelEncoder\n",
    "le = LabelEncoder()\n",
    "Cars[\"model\"] = le.fit_transform(Cars[\"model\"])"
   ],
   "id": "56b311438082d21f",
   "outputs": [],
   "execution_count": 5
  },
  {
   "metadata": {
    "ExecuteTime": {
     "end_time": "2025-03-17T01:08:34.408738Z",
     "start_time": "2025-03-17T01:08:34.390931Z"
    }
   },
   "cell_type": "code",
   "source": "Cars.head()",
   "id": "269c30e731f1deda",
   "outputs": [
    {
     "data": {
      "text/plain": [
       "                           name  year  selling_price  km_driven    fuel  \\\n",
       "0        Maruti Swift Dzire VDI  2014      262026.00     145500  Diesel   \n",
       "1  Skoda Rapid 1.5 TDI Ambition  2014      215443.60     120000  Diesel   \n",
       "2      Honda City 2017-2020 EXi  2006       92000.24     140000  Petrol   \n",
       "3     Hyundai i20 Sportz Diesel  2010      131013.00     127000  Diesel   \n",
       "4        Maruti Swift VXI BSIII  2007       75696.40     120000  Petrol   \n",
       "\n",
       "  transmission  mileage(km/ltr/kg)  engine max_power  seats    brand  model  \n",
       "0       Manual               23.40  1248.0        74    5.0   Maruti    554  \n",
       "1       Manual               21.14  1498.0    103.52    5.0    Skoda    449  \n",
       "2       Manual               17.70  1497.0        78    5.0    Honda    131  \n",
       "3       Manual               23.00  1396.0        90    5.0  Hyundai    695  \n",
       "4       Manual               16.10  1298.0      88.2    5.0   Maruti    565  "
      ],
      "text/html": [
       "<div>\n",
       "<style scoped>\n",
       "    .dataframe tbody tr th:only-of-type {\n",
       "        vertical-align: middle;\n",
       "    }\n",
       "\n",
       "    .dataframe tbody tr th {\n",
       "        vertical-align: top;\n",
       "    }\n",
       "\n",
       "    .dataframe thead th {\n",
       "        text-align: right;\n",
       "    }\n",
       "</style>\n",
       "<table border=\"1\" class=\"dataframe\">\n",
       "  <thead>\n",
       "    <tr style=\"text-align: right;\">\n",
       "      <th></th>\n",
       "      <th>name</th>\n",
       "      <th>year</th>\n",
       "      <th>selling_price</th>\n",
       "      <th>km_driven</th>\n",
       "      <th>fuel</th>\n",
       "      <th>transmission</th>\n",
       "      <th>mileage(km/ltr/kg)</th>\n",
       "      <th>engine</th>\n",
       "      <th>max_power</th>\n",
       "      <th>seats</th>\n",
       "      <th>brand</th>\n",
       "      <th>model</th>\n",
       "    </tr>\n",
       "  </thead>\n",
       "  <tbody>\n",
       "    <tr>\n",
       "      <th>0</th>\n",
       "      <td>Maruti Swift Dzire VDI</td>\n",
       "      <td>2014</td>\n",
       "      <td>262026.00</td>\n",
       "      <td>145500</td>\n",
       "      <td>Diesel</td>\n",
       "      <td>Manual</td>\n",
       "      <td>23.40</td>\n",
       "      <td>1248.0</td>\n",
       "      <td>74</td>\n",
       "      <td>5.0</td>\n",
       "      <td>Maruti</td>\n",
       "      <td>554</td>\n",
       "    </tr>\n",
       "    <tr>\n",
       "      <th>1</th>\n",
       "      <td>Skoda Rapid 1.5 TDI Ambition</td>\n",
       "      <td>2014</td>\n",
       "      <td>215443.60</td>\n",
       "      <td>120000</td>\n",
       "      <td>Diesel</td>\n",
       "      <td>Manual</td>\n",
       "      <td>21.14</td>\n",
       "      <td>1498.0</td>\n",
       "      <td>103.52</td>\n",
       "      <td>5.0</td>\n",
       "      <td>Skoda</td>\n",
       "      <td>449</td>\n",
       "    </tr>\n",
       "    <tr>\n",
       "      <th>2</th>\n",
       "      <td>Honda City 2017-2020 EXi</td>\n",
       "      <td>2006</td>\n",
       "      <td>92000.24</td>\n",
       "      <td>140000</td>\n",
       "      <td>Petrol</td>\n",
       "      <td>Manual</td>\n",
       "      <td>17.70</td>\n",
       "      <td>1497.0</td>\n",
       "      <td>78</td>\n",
       "      <td>5.0</td>\n",
       "      <td>Honda</td>\n",
       "      <td>131</td>\n",
       "    </tr>\n",
       "    <tr>\n",
       "      <th>3</th>\n",
       "      <td>Hyundai i20 Sportz Diesel</td>\n",
       "      <td>2010</td>\n",
       "      <td>131013.00</td>\n",
       "      <td>127000</td>\n",
       "      <td>Diesel</td>\n",
       "      <td>Manual</td>\n",
       "      <td>23.00</td>\n",
       "      <td>1396.0</td>\n",
       "      <td>90</td>\n",
       "      <td>5.0</td>\n",
       "      <td>Hyundai</td>\n",
       "      <td>695</td>\n",
       "    </tr>\n",
       "    <tr>\n",
       "      <th>4</th>\n",
       "      <td>Maruti Swift VXI BSIII</td>\n",
       "      <td>2007</td>\n",
       "      <td>75696.40</td>\n",
       "      <td>120000</td>\n",
       "      <td>Petrol</td>\n",
       "      <td>Manual</td>\n",
       "      <td>16.10</td>\n",
       "      <td>1298.0</td>\n",
       "      <td>88.2</td>\n",
       "      <td>5.0</td>\n",
       "      <td>Maruti</td>\n",
       "      <td>565</td>\n",
       "    </tr>\n",
       "  </tbody>\n",
       "</table>\n",
       "</div>"
      ]
     },
     "execution_count": 8,
     "metadata": {},
     "output_type": "execute_result"
    }
   ],
   "execution_count": 8
  },
  {
   "metadata": {
    "ExecuteTime": {
     "end_time": "2025-03-17T01:14:16.600200Z",
     "start_time": "2025-03-17T01:14:16.548495Z"
    }
   },
   "cell_type": "code",
   "source": [
    "# Apply Label Encoding to model name\n",
    "from sklearn.preprocessing import LabelEncoder\n",
    "le = LabelEncoder()\n",
    "Cars[\"brand\"] = le.fit_transform(Cars[\"brand\"])\n",
    "Cars.to_csv(Path)"
   ],
   "id": "64768c1c9871f09b",
   "outputs": [],
   "execution_count": 14
  },
  {
   "metadata": {
    "ExecuteTime": {
     "end_time": "2025-03-17T01:15:15.726103Z",
     "start_time": "2025-03-17T01:15:15.673660Z"
    }
   },
   "cell_type": "code",
   "source": [
    "# Apply Label Encoding to model name\n",
    "from sklearn.preprocessing import LabelEncoder\n",
    "le = LabelEncoder()\n",
    "Cars[\"transmission\"] = le.fit_transform(Cars[\"transmission\"])\n",
    "Cars.to_csv(Path)\n",
    "# Manual or Automatic"
   ],
   "id": "f59b44211522426",
   "outputs": [],
   "execution_count": 15
  },
  {
   "metadata": {
    "ExecuteTime": {
     "end_time": "2025-03-17T01:16:22.059850Z",
     "start_time": "2025-03-17T01:16:22.006782Z"
    }
   },
   "cell_type": "code",
   "source": [
    "# Apply Label Encoding to model name\n",
    "from sklearn.preprocessing import LabelEncoder\n",
    "le = LabelEncoder()\n",
    "Cars[\"fuel\"] = le.fit_transform(Cars[\"fuel\"])\n",
    "Cars.to_csv(Path)\n",
    "# Diseal or Petrol"
   ],
   "id": "1ffdcd85a60e6751",
   "outputs": [],
   "execution_count": 16
  }
 ],
 "metadata": {
  "kernelspec": {
   "display_name": "Python 3",
   "language": "python",
   "name": "python3"
  },
  "language_info": {
   "codemirror_mode": {
    "name": "ipython",
    "version": 2
   },
   "file_extension": ".py",
   "mimetype": "text/x-python",
   "name": "python",
   "nbconvert_exporter": "python",
   "pygments_lexer": "ipython2",
   "version": "2.7.6"
  }
 },
 "nbformat": 4,
 "nbformat_minor": 5
}
