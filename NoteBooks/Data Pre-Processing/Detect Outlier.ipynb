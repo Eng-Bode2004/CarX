{
 "cells": [
  {
   "cell_type": "code",
   "id": "initial_id",
   "metadata": {
    "collapsed": true
   },
   "source": [
    "import pandas as pd\n",
    "Cars = pd.read_csv(r'/Datasets/Raw/Cars.csv')"
   ],
   "outputs": [],
   "execution_count": null
  },
  {
   "metadata": {},
   "cell_type": "code",
   "source": [
    "import seaborn as sns\n",
    "sns.boxenplot(Cars['mileage(km/ltr/kg)'])\n",
    "# There is Outliers in mileage(km/ltr/kg)"
   ],
   "id": "37693b1b85ed5d73",
   "outputs": [],
   "execution_count": null
  },
  {
   "metadata": {},
   "cell_type": "code",
   "source": [
    "import seaborn as sns\n",
    "sns.boxenplot(Cars['engine'])\n",
    "# There is Outliers in engine But Small Ones"
   ],
   "id": "976f4f20295a5119",
   "outputs": [],
   "execution_count": null
  },
  {
   "metadata": {},
   "cell_type": "code",
   "source": [
    "import seaborn as sns\n",
    "sns.boxenplot(Cars['max_power'])\n",
    "# There is no Outliers in max_power"
   ],
   "id": "9b872cf412684497",
   "outputs": [],
   "execution_count": null
  },
  {
   "metadata": {},
   "cell_type": "code",
   "source": [
    "import seaborn as sns\n",
    "sns.boxenplot(Cars['seats'])\n",
    "# There is  Outliers in seats But Small"
   ],
   "id": "f551b43bfb474ea7",
   "outputs": [],
   "execution_count": null
  }
 ],
 "metadata": {
  "kernelspec": {
   "display_name": "Python 3",
   "language": "python",
   "name": "python3"
  },
  "language_info": {
   "codemirror_mode": {
    "name": "ipython",
    "version": 2
   },
   "file_extension": ".py",
   "mimetype": "text/x-python",
   "name": "python",
   "nbconvert_exporter": "python",
   "pygments_lexer": "ipython2",
   "version": "2.7.6"
  }
 },
 "nbformat": 4,
 "nbformat_minor": 5
}
