{
 "cells": [
  {
   "cell_type": "code",
   "id": "initial_id",
   "metadata": {
    "collapsed": true,
    "ExecuteTime": {
     "end_time": "2025-03-26T22:02:56.747726Z",
     "start_time": "2025-03-26T22:02:55.727323Z"
    }
   },
   "source": [
    "import pandas as pd\n",
    "Path = r'C:\\Users\\zezom\\PycharmProjects\\CarX\\Datasets\\Processed\\cleaned_dataset.csv'\n",
    "Cars = pd.read_csv(Path)"
   ],
   "outputs": [],
   "execution_count": 2
  },
  {
   "metadata": {
    "ExecuteTime": {
     "end_time": "2025-03-26T22:02:59.134333Z",
     "start_time": "2025-03-26T22:02:57.405456Z"
    }
   },
   "cell_type": "code",
   "source": [
    "from sklearn.model_selection import train_test_split\n",
    "\n",
    "# Assuming 'Price' is the target variable\n",
    "X = Cars.drop(columns=['Price'])  # Features\n",
    "y = Cars['Price']  # Target\n",
    "\n",
    "# Split: 80% training, 20% testing\n",
    "X_train, X_test, y_train, y_test = train_test_split(X, y, test_size=0.2, random_state=42)\n",
    "\n",
    "print(\"Training set size:\", X_train.shape)\n",
    "print(\"Testing set size:\", X_test.shape)\n"
   ],
   "id": "55bbfe085f008c54",
   "outputs": [
    {
     "name": "stdout",
     "output_type": "stream",
     "text": [
      "Training set size: (26846, 9)\n",
      "Testing set size: (6712, 9)\n"
     ]
    }
   ],
   "execution_count": 3
  },
  {
   "metadata": {
    "ExecuteTime": {
     "end_time": "2025-03-26T22:03:02.820042Z",
     "start_time": "2025-03-26T22:02:59.229128Z"
    }
   },
   "cell_type": "code",
   "source": [
    "from sklearn.ensemble import RandomForestRegressor\n",
    "\n",
    "rf = RandomForestRegressor(n_estimators=100, max_depth=10, random_state=42)\n",
    "rf.fit(X_train, y_train)\n",
    "y_pred = rf.predict(X_test)"
   ],
   "id": "b5ea8760127f2d38",
   "outputs": [],
   "execution_count": 4
  },
  {
   "metadata": {
    "ExecuteTime": {
     "end_time": "2025-03-26T22:03:03.437284Z",
     "start_time": "2025-03-26T22:03:03.425379Z"
    }
   },
   "cell_type": "code",
   "source": [
    "from sklearn.metrics import mean_absolute_error, r2_score , mean_squared_error\n",
    "import numpy as np\n",
    "# 8️⃣ Evaluate Model Performance\n",
    "mae = mean_absolute_error(y_test, y_pred)\n",
    "mse = mean_squared_error(y_test, y_pred)\n",
    "rmse = np.sqrt(mse)\n",
    "r2 = r2_score(y_test, y_pred)\n",
    "\n",
    "# Compute Relative Errors (%)\n",
    "y_mean = np.mean(y_test)\n",
    "mae_relative = (mae / y_mean) * 100\n",
    "mse_relative = (mse / y_mean) * 100\n",
    "rmse_relative = (rmse / y_mean) * 100\n",
    "print(\"The Mean Absolute Error is :\", mae_relative,\"%\")\n",
    "print(\"The Root Mean Squared Error is :\", rmse_relative,\"%\")\n",
    "print(\"The R^2 is :\", r2)\n",
    "print()\n",
    "print()\n",
    "print()"
   ],
   "id": "9b2fe7c145151eb1",
   "outputs": [
    {
     "name": "stdout",
     "output_type": "stream",
     "text": [
      "The Mean Absolute Error is : 18.790479753858918 %\n",
      "The Root Mean Squared Error is : 46.82378171136815 %\n",
      "The R^2 is : 0.8237390223472081\n",
      "\n",
      "\n",
      "\n"
     ]
    }
   ],
   "execution_count": 5
  },
  {
   "metadata": {
    "ExecuteTime": {
     "end_time": "2025-03-26T22:03:06.017309Z",
     "start_time": "2025-03-26T22:03:05.732035Z"
    }
   },
   "cell_type": "code",
   "source": [
    "train_r2 = rf.score(X_train, y_train)\n",
    "test_r2 = rf.score(X_test, y_test)\n",
    "\n",
    "print(f\"Train R² Score: {train_r2:.4f}\")\n",
    "print(f\"Test R² Score: {test_r2:.4f}\")\n"
   ],
   "id": "5465ba567eac0fc2",
   "outputs": [
    {
     "name": "stdout",
     "output_type": "stream",
     "text": [
      "Train R² Score: 0.8809\n",
      "Test R² Score: 0.8237\n"
     ]
    }
   ],
   "execution_count": 6
  },
  {
   "metadata": {
    "ExecuteTime": {
     "end_time": "2025-03-26T22:03:06.856514Z",
     "start_time": "2025-03-26T22:03:06.805179Z"
    }
   },
   "cell_type": "code",
   "source": [
    "import joblib\n",
    "\n",
    "# Save the trained model\n",
    "joblib.dump(rf, \"../../random_forest_model.pkl\")"
   ],
   "id": "2ba3a77a6fbcf1a6",
   "outputs": [
    {
     "data": {
      "text/plain": [
       "['random_forest_model.pkl']"
      ]
     },
     "execution_count": 7,
     "metadata": {},
     "output_type": "execute_result"
    }
   ],
   "execution_count": 7
  }
 ],
 "metadata": {
  "kernelspec": {
   "display_name": "Python 3",
   "language": "python",
   "name": "python3"
  },
  "language_info": {
   "codemirror_mode": {
    "name": "ipython",
    "version": 2
   },
   "file_extension": ".py",
   "mimetype": "text/x-python",
   "name": "python",
   "nbconvert_exporter": "python",
   "pygments_lexer": "ipython2",
   "version": "2.7.6"
  }
 },
 "nbformat": 4,
 "nbformat_minor": 5
}
