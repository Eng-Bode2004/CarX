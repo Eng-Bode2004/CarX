{
 "cells": [
  {
   "cell_type": "code",
   "id": "initial_id",
   "metadata": {
    "collapsed": true,
    "ExecuteTime": {
     "end_time": "2025-03-26T20:11:53.819571Z",
     "start_time": "2025-03-26T20:11:53.142515Z"
    }
   },
   "source": [
    "import pandas as pd\n",
    "Path = r'C:\\Users\\zezom\\PycharmProjects\\CarX\\Datasets\\Processed\\cleaned_dataset.csv'\n",
    "Cars = pd.read_csv(Path)"
   ],
   "outputs": [],
   "execution_count": 1
  },
  {
   "metadata": {
    "ExecuteTime": {
     "end_time": "2025-03-26T20:12:09.868777Z",
     "start_time": "2025-03-26T20:12:08.545029Z"
    }
   },
   "cell_type": "code",
   "source": [
    "from sklearn.model_selection import train_test_split\n",
    "\n",
    "# Assuming 'Price' is the target variable\n",
    "X = Cars.drop(columns=['Price'])  # Features\n",
    "y = Cars['Price']  # Target\n",
    "\n",
    "# Split: 80% training, 20% testing\n",
    "X_train, X_test, y_train, y_test = train_test_split(X, y, test_size=0.2, random_state=42)\n",
    "\n",
    "print(\"Training set size:\", X_train.shape)\n",
    "print(\"Testing set size:\", X_test.shape)\n"
   ],
   "id": "95ec9456a867a243",
   "outputs": [
    {
     "name": "stdout",
     "output_type": "stream",
     "text": [
      "Training set size: (26846, 9)\n",
      "Testing set size: (6712, 9)\n"
     ]
    }
   ],
   "execution_count": 2
  },
  {
   "metadata": {
    "ExecuteTime": {
     "end_time": "2025-03-26T20:12:49.807322Z",
     "start_time": "2025-03-26T20:12:49.605388Z"
    }
   },
   "cell_type": "code",
   "source": [
    "from sklearn.linear_model import LinearRegression\n",
    "# 3️⃣ Train the Linear Regression Model\n",
    "model = LinearRegression()\n",
    "model.fit(X_train, y_train)\n",
    "\n",
    "# 4️⃣ Make Predictions\n",
    "y_pred = model.predict(X_test)"
   ],
   "id": "ac3d450e6585baa5",
   "outputs": [],
   "execution_count": 3
  },
  {
   "metadata": {
    "ExecuteTime": {
     "end_time": "2025-03-26T20:17:04.188715Z",
     "start_time": "2025-03-26T20:17:04.174357Z"
    }
   },
   "cell_type": "code",
   "source": [
    "from sklearn.metrics import mean_absolute_error, r2_score , mean_squared_error\n",
    "import numpy as np\n",
    "\n",
    "# Calculate Errors\n",
    "mae = mean_absolute_error(y_test, y_pred)\n",
    "mse = mean_squared_error(y_test, y_pred)\n",
    "rmse = np.sqrt(mse)\n",
    "r2 = r2_score(y_test, y_pred)\n",
    "\n",
    "# Mean of actual values\n",
    "y_mean = np.mean(y_test)\n",
    "\n",
    "# Compute Relative Errors (%)\n",
    "mae_relative = (mae / y_mean) * 100\n",
    "mse_relative = (mse / y_mean) * 100\n",
    "rmse_relative = (rmse / y_mean) * 100\n",
    "\n",
    "# Print Results\n",
    "print(f\"MAE: {mae:.2f}, Relative Error: {mae_relative:.2f}%\")\n",
    "print(f\"MSE: {mse:.2f}, Relative Error: {mse_relative:.2f}%\")\n",
    "print(f\"RMSE: {rmse:.2f}, Relative Error: {rmse_relative:.2f}%\")\n",
    "print(f\"R² Score: {r2:.4f}\")"
   ],
   "id": "842a898e8aabbef2",
   "outputs": [
    {
     "name": "stdout",
     "output_type": "stream",
     "text": [
      "MAE: 570864.55, Relative Error: 59.93%\n",
      "MSE: 990478133276.17, Relative Error: 103975421.68%\n",
      "RMSE: 995227.68, Relative Error: 104.47%\n",
      "R² Score: 0.1225\n"
     ]
    }
   ],
   "execution_count": 4
  }
 ],
 "metadata": {
  "kernelspec": {
   "display_name": "Python 3",
   "language": "python",
   "name": "python3"
  },
  "language_info": {
   "codemirror_mode": {
    "name": "ipython",
    "version": 2
   },
   "file_extension": ".py",
   "mimetype": "text/x-python",
   "name": "python",
   "nbconvert_exporter": "python",
   "pygments_lexer": "ipython2",
   "version": "2.7.6"
  }
 },
 "nbformat": 4,
 "nbformat_minor": 5
}
